{
 "cells": [
  {
   "cell_type": "markdown",
   "id": "5af9fba2",
   "metadata": {},
   "source": [
    "26.02.2023\n",
    "Теория вероятностей и математическая статистика\n",
    "\n",
    "Тамбовцев Р.\n",
    "\n",
    "ДЗ №8"
   ]
  },
  {
   "cell_type": "markdown",
   "id": "8d008d2f",
   "metadata": {},
   "source": [
    "Задание.\n",
    "\n",
    "Провести дисперсионный анализ для определения того, есть ли различия среднего роста среди взрослых футболистов, хоккеистов и штангистов. Даны значения роста в трех группах случайно выбранных спортсменов: Футболисты: 173, 175, 180, 178, 177, 185, 183, 182. Хоккеисты: 177, 179, 180, 188, 177, 172, 171, 184, 180. Штангисты: 172, 173, 169, 177, 166, 180, 178, 177, 172, 166, 170. alpha = 0.05."
   ]
  },
  {
   "cell_type": "markdown",
   "id": "7e7cec01",
   "metadata": {},
   "source": [
    "Решение:"
   ]
  },
  {
   "cell_type": "code",
   "execution_count": 90,
   "id": "373f4173",
   "metadata": {},
   "outputs": [],
   "source": [
    "import numpy as np # импортируем библиотеку numpy для работы с функциями и массивами"
   ]
  },
  {
   "cell_type": "markdown",
   "id": "2d3f3438",
   "metadata": {},
   "source": [
    "1. Посчитаем кол-во человек в группах и общее кол-во."
   ]
  },
  {
   "cell_type": "code",
   "execution_count": 92,
   "id": "c31fd036",
   "metadata": {},
   "outputs": [
    {
     "name": "stdout",
     "output_type": "stream",
     "text": [
      "28\n"
     ]
    }
   ],
   "source": [
    "soccer = 8\n",
    "hock = 9\n",
    "weightlifter = 11\n",
    "\n",
    "group = [soccer, hock, weightlifter]\n",
    "\n",
    "total = soccer + hock + weightlifter\n",
    "print(total)"
   ]
  },
  {
   "cell_type": "markdown",
   "id": "516fb318",
   "metadata": {},
   "source": [
    "кол-во групп k"
   ]
  },
  {
   "cell_type": "code",
   "execution_count": 93,
   "id": "c3acbfc5",
   "metadata": {},
   "outputs": [
    {
     "name": "stdout",
     "output_type": "stream",
     "text": [
      "3\n"
     ]
    }
   ],
   "source": [
    "k = len(group)\n",
    "print(k)"
   ]
  },
  {
   "cell_type": "markdown",
   "id": "9509673d",
   "metadata": {},
   "source": [
    "Рост:\n",
    "    1. Футболистов\n",
    "    2. Хоккеистов\n",
    "    3. Штангистов\n",
    "    \n",
    "Созданим массивы из значений роста"
   ]
  },
  {
   "cell_type": "code",
   "execution_count": 94,
   "id": "8a827588",
   "metadata": {},
   "outputs": [],
   "source": [
    "y_s = np.array([173, 175, 180, 178, 177, 185, 183, 182], dtype=np.float64)\n",
    "y_h = np.array([177, 179, 180, 188, 177, 172, 171, 184, 180], dtype=np.float64)\n",
    "y_f = np.array([172, 173, 169, 177, 166, 180, 178, 177, 172, 166, 170], dtype=np.float64)"
   ]
  },
  {
   "cell_type": "markdown",
   "id": "f81baace",
   "metadata": {},
   "source": [
    "Проведем однофакторный дисперсионный анализ. \n",
    "1. Найдем средние значения роста по каждой группе спортсменов:"
   ]
  },
  {
   "cell_type": "code",
   "execution_count": 95,
   "id": "cde672a1",
   "metadata": {},
   "outputs": [
    {
     "name": "stdout",
     "output_type": "stream",
     "text": [
      "179.125 178.667 172.727\n"
     ]
    }
   ],
   "source": [
    "y_s_mean = round(np.mean(y_s),3)\n",
    "y_h_mean = round(np.mean(y_h),3)\n",
    "y_f_mean = round(np.mean(y_f),3)\n",
    "print(y_s_mean, \n",
    "      y_h_mean, \n",
    "      y_f_mean)"
   ]
  },
  {
   "cell_type": "markdown",
   "id": "335df846",
   "metadata": {},
   "source": [
    "Значения среднего роста имеют отличия. Установим, что эти отличия статистически значимы.\n",
    "Соберём все значения роста в один массив:"
   ]
  },
  {
   "cell_type": "code",
   "execution_count": 96,
   "id": "c2b21a12",
   "metadata": {},
   "outputs": [
    {
     "data": {
      "text/plain": [
       "array([173., 175., 180., 178., 177., 185., 183., 182., 177., 179., 180.,\n",
       "       188., 177., 172., 171., 184., 180., 172., 173., 169., 177., 166.,\n",
       "       180., 178., 177., 172., 166., 170.])"
      ]
     },
     "execution_count": 96,
     "metadata": {},
     "output_type": "execute_result"
    }
   ],
   "source": [
    "y_total = np.concatenate([y_s, y_h, y_f])\n",
    "y_total"
   ]
  },
  {
   "cell_type": "markdown",
   "id": "68c715cb",
   "metadata": {},
   "source": [
    "определим среднее значение роста по всем трём группам"
   ]
  },
  {
   "cell_type": "code",
   "execution_count": 97,
   "id": "4c13f443",
   "metadata": {},
   "outputs": [
    {
     "name": "stdout",
     "output_type": "stream",
     "text": [
      "176.464\n"
     ]
    }
   ],
   "source": [
    "y_mean_total = round(np.mean(y_total),3)\n",
    "print(y_mean_total)"
   ]
  },
  {
   "cell_type": "markdown",
   "id": "bcd4a0b5",
   "metadata": {},
   "source": [
    "Найдем $S^2$ — сумму квадратов отклонений наблюдений от общего среднего:"
   ]
  },
  {
   "cell_type": "markdown",
   "id": "f26a8868",
   "metadata": {},
   "source": [
    "$$S^2 = \\sum\\limits_{i=1}^{k}\\sum\\limits_{j=1}^{n_i}({y}_{ij} - \\overline{Y})^2$$"
   ]
  },
  {
   "cell_type": "code",
   "execution_count": 98,
   "id": "8212f926",
   "metadata": {},
   "outputs": [
    {
     "data": {
      "text/plain": [
       "830.964"
      ]
     },
     "execution_count": 98,
     "metadata": {},
     "output_type": "execute_result"
    }
   ],
   "source": [
    "S2 = np.sum((y_total - y_mean_total)**2)\n",
    "round(S2,3)"
   ]
  },
  {
   "cell_type": "markdown",
   "id": "d4a57ea8",
   "metadata": {},
   "source": [
    "Найдем $S^2_F$ - сумму квадратов отклонений средних групповых значений от общего среднего:"
   ]
  },
  {
   "cell_type": "markdown",
   "id": "bd8b22ec",
   "metadata": {},
   "source": [
    "$$S_F^2 = \\sum\\limits_{i=1}^{k}(\\overline{y}_i - \\overline{Y})^2n_i$$"
   ]
  },
  {
   "cell_type": "code",
   "execution_count": 99,
   "id": "1224adf2",
   "metadata": {},
   "outputs": [
    {
     "data": {
      "text/plain": [
       "253.943"
      ]
     },
     "execution_count": 99,
     "metadata": {},
     "output_type": "execute_result"
    }
   ],
   "source": [
    "s2_f = ((y_s_mean - y_mean_total)**2) * soccer + ((y_h_mean - y_mean_total)**2) * hock + ((y_f_mean - y_mean_total)**2) * weightlifter\n",
    "round(s2_f,3)"
   ]
  },
  {
   "cell_type": "markdown",
   "id": "336d924c",
   "metadata": {},
   "source": [
    "Найдем $S^2_{ост}$ — остаточную сумму квадратов отклонений:"
   ]
  },
  {
   "cell_type": "markdown",
   "id": "0e87285a",
   "metadata": {},
   "source": [
    "$$S_{ост}^{2} = \\sum\\limits_{i=1}^{k}\\sum\\limits_{j=1}^{n_i}(y_{ij} - \\overline{y}_i)^2$$"
   ]
  },
  {
   "cell_type": "code",
   "execution_count": 100,
   "id": "46d0d5a2",
   "metadata": {},
   "outputs": [
    {
     "data": {
      "text/plain": [
       "577.057"
      ]
     },
     "execution_count": 100,
     "metadata": {},
     "output_type": "execute_result"
    }
   ],
   "source": [
    "S2_ost = np.sum((y_s - y_s_mean)**2) + np.sum((y_h- y_h_mean)**2) + np.sum((y_f - y_f_mean)**2)\n",
    "round(S2_ost,3)"
   ]
  },
  {
   "cell_type": "markdown",
   "id": "723b301e",
   "metadata": {},
   "source": [
    "Удостоверимся, что соблюдается равенство $S^2 = S_F^2 + S_{ост}^2$:"
   ]
  },
  {
   "cell_type": "code",
   "execution_count": 89,
   "id": "47df9fcf",
   "metadata": {},
   "outputs": [
    {
     "name": "stdout",
     "output_type": "stream",
     "text": [
      "830.9642879999998\n",
      "830.9999279999997\n"
     ]
    }
   ],
   "source": [
    "print(S2)\n",
    "S2_check = s2_f + S2_ost\n",
    "print(S2_check)"
   ]
  },
  {
   "cell_type": "markdown",
   "id": "b1fdc502",
   "metadata": {},
   "source": [
    "Найдём общую дисперсию"
   ]
  },
  {
   "cell_type": "code",
   "execution_count": 101,
   "id": "d0b0365c",
   "metadata": {},
   "outputs": [
    {
     "data": {
      "text/plain": [
       "30.776455111111105"
      ]
     },
     "execution_count": 101,
     "metadata": {},
     "output_type": "execute_result"
    }
   ],
   "source": [
    "sigma2_general = S2 / (total - 1)\n",
    "sigma2_general"
   ]
  },
  {
   "cell_type": "markdown",
   "id": "9be60889",
   "metadata": {},
   "source": [
    "Найдём факторную дисперсию"
   ]
  },
  {
   "cell_type": "code",
   "execution_count": 102,
   "id": "6f5fe753",
   "metadata": {},
   "outputs": [
    {
     "data": {
      "text/plain": [
       "126.97155399999988"
      ]
     },
     "execution_count": 102,
     "metadata": {},
     "output_type": "execute_result"
    }
   ],
   "source": [
    "sigma2_f = s2_f / (k - 1)\n",
    "sigma2_f"
   ]
  },
  {
   "cell_type": "markdown",
   "id": "f48e1c33",
   "metadata": {},
   "source": [
    "Найдем остаточную дисперсию:"
   ]
  },
  {
   "cell_type": "code",
   "execution_count": 105,
   "id": "84f5e75c",
   "metadata": {},
   "outputs": [
    {
     "data": {
      "text/plain": [
       "23.082272800000002"
      ]
     },
     "execution_count": 105,
     "metadata": {},
     "output_type": "execute_result"
    }
   ],
   "source": [
    "sigma2_ost = S2_ost / (total - k)\n",
    "sigma2_ost"
   ]
  },
  {
   "cell_type": "markdown",
   "id": "befcf7a0",
   "metadata": {},
   "source": [
    "Вычислим $F_H$:"
   ]
  },
  {
   "cell_type": "code",
   "execution_count": 111,
   "id": "7dc414f3",
   "metadata": {},
   "outputs": [
    {
     "name": "stdout",
     "output_type": "stream",
     "text": [
      "2\n",
      "25\n"
     ]
    }
   ],
   "source": [
    "a = 0.05\n",
    "print(k-1)\n",
    "print(total-k)"
   ]
  },
  {
   "cell_type": "markdown",
   "id": "d7791660",
   "metadata": {},
   "source": [
    "По таблице Критические точки распределения Фишера–Снедекора определяем $F_{крит}$:\n",
    "3,38"
   ]
  },
  {
   "cell_type": "code",
   "execution_count": 110,
   "id": "1d8017de",
   "metadata": {},
   "outputs": [
    {
     "data": {
      "text/plain": [
       "5.500825464639681"
      ]
     },
     "execution_count": 110,
     "metadata": {},
     "output_type": "execute_result"
    }
   ],
   "source": [
    "F_h = sigma2_f / sigma2_ost\n",
    "F_h"
   ]
  },
  {
   "cell_type": "markdown",
   "id": "dff4dd71",
   "metadata": {},
   "source": [
    "Если значение  $F_H$ превышает $F_{крит}$ из таблицы критических точек распределения Фишера-Снедекора для заданного уровня \n",
    "\n",
    "значимости $\\alpha$ двух степеней свободы $df_{межд} = k - 1$ (относится к числителю соотношения) и $df_{внутр} = n - k$ (относится к знаменателю), \n",
    "\n",
    "то выборки имеют разные средние значения."
   ]
  },
  {
   "cell_type": "markdown",
   "id": "45b57fd6",
   "metadata": {},
   "source": [
    "Так как F_h > Fкрит, различие значениях среднего роста в трех группах статистически значимо."
   ]
  },
  {
   "cell_type": "markdown",
   "id": "0fa6ad96",
   "metadata": {},
   "source": [
    "Также вычислим эмпирическое корреляционное отношение $\\eta^2$:"
   ]
  },
  {
   "cell_type": "code",
   "execution_count": 113,
   "id": "fb46eec9",
   "metadata": {},
   "outputs": [
    {
     "data": {
      "text/plain": [
       "0.3056005073469533"
      ]
     },
     "execution_count": 113,
     "metadata": {},
     "output_type": "execute_result"
    }
   ],
   "source": [
    "eta2 = s2_f / S2\n",
    "eta2"
   ]
  },
  {
   "cell_type": "markdown",
   "id": "a2955508",
   "metadata": {},
   "source": [
    "Принято считать, что при значениях $\\eta^2$ ниже 0.2-0.3 групповые значения\n",
    "\n",
    "средних не имеют статистически достоверного отличия."
   ]
  },
  {
   "cell_type": "code",
   "execution_count": null,
   "id": "60bd288f",
   "metadata": {},
   "outputs": [],
   "source": [
    "т.к. полученное значение больше 0.3, то считаем, что групповые значения средних имеют статистически достоверные\n",
    "отличия"
   ]
  }
 ],
 "metadata": {
  "kernelspec": {
   "display_name": "Python 3 (ipykernel)",
   "language": "python",
   "name": "python3"
  },
  "language_info": {
   "codemirror_mode": {
    "name": "ipython",
    "version": 3
   },
   "file_extension": ".py",
   "mimetype": "text/x-python",
   "name": "python",
   "nbconvert_exporter": "python",
   "pygments_lexer": "ipython3",
   "version": "3.9.7"
  }
 },
 "nbformat": 4,
 "nbformat_minor": 5
}
